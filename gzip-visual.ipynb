{
 "cells": [
  {
   "cell_type": "code",
   "execution_count": 15,
   "metadata": {},
   "outputs": [],
   "source": [
    "import gzip\n",
    "import contextlib\n",
    "import pandas\n",
    "import os\n",
    "import io\n",
    "import matplotlib\n",
    "import matplotlib.pyplot as pyplot"
   ]
  },
  {
   "cell_type": "code",
   "execution_count": 98,
   "metadata": {},
   "outputs": [
    {
     "data": {
      "text/plain": [
       "'/Users/hum/fun/git/hum/visual-gzip'"
      ]
     },
     "execution_count": 98,
     "metadata": {},
     "output_type": "execute_result"
    }
   ],
   "source": [
    "os.getcwd()"
   ]
  },
  {
   "cell_type": "code",
   "execution_count": 99,
   "metadata": {},
   "outputs": [
    {
     "name": "stdout",
     "output_type": "stream",
     "text": [
      "total 1200\r\n",
      "-rw-r--r--@ 1 hum  staff   438K Sep 23 10:51 harry.txt\r\n",
      "-rw-r--r--@ 1 hum  staff   159K Sep 23 10:51 harry.txt.gz\r\n"
     ]
    }
   ],
   "source": [
    "!gzip -k files/harry.txt\n",
    "!ls -lh files/"
   ]
  },
  {
   "cell_type": "code",
   "execution_count": 100,
   "metadata": {},
   "outputs": [],
   "source": [
    "compressed = open('files/harry.txt.gz', 'rb')\n",
    "gzip_file = gzip.GzipFile(fileobj=compressed)"
   ]
  },
  {
   "cell_type": "code",
   "execution_count": 101,
   "metadata": {},
   "outputs": [
    {
     "name": "stdout",
     "output_type": "stream",
     "text": [
      "b\"Harry Potter and the Sorcerer's Stone \\r\\n\\r\\nCHAPTER ONE \\r\\n\\r\\nTHE BOY WHO LIVED \\r\\n\\r\\nMr. and Mrs. Dursley, of number four, Privet Drive, were proud to say that they were perfectly normal, thank you very mu\"\n"
     ]
    }
   ],
   "source": [
    "read_bytes = gzip_file.read(200)\n",
    "print(read_bytes)"
   ]
  },
  {
   "cell_type": "code",
   "execution_count": 102,
   "metadata": {},
   "outputs": [
    {
     "data": {
      "text/plain": [
       "8212"
      ]
     },
     "execution_count": 102,
     "metadata": {},
     "output_type": "execute_result"
    }
   ],
   "source": [
    "compressed.tell()"
   ]
  },
  {
   "cell_type": "code",
   "execution_count": 103,
   "metadata": {},
   "outputs": [
    {
     "name": "stdout",
     "output_type": "stream",
     "text": [
      "b\"ch. They were the last people you'd expect to be involved in anything strange or mysterious, because they just didn't hold with such nonsense. \\r\\n\\r\\nMr. Dursley was the director of a firm called Grunnin\"\n"
     ]
    }
   ],
   "source": [
    "read_bytes = gzip_file.read(200)\n",
    "print(read_bytes)"
   ]
  },
  {
   "cell_type": "code",
   "execution_count": 104,
   "metadata": {},
   "outputs": [
    {
     "data": {
      "text/plain": [
       "8212"
      ]
     },
     "execution_count": 104,
     "metadata": {},
     "output_type": "execute_result"
    }
   ],
   "source": [
    "compressed.tell()"
   ]
  },
  {
   "cell_type": "code",
   "execution_count": 113,
   "metadata": {},
   "outputs": [],
   "source": [
    "# setting python's buffer size to 1\n",
    "import io\n",
    "io.DEFAULT_BUFFER_SIZE = 8192\n",
    "old_buffer_size = io.DEFAULT_BUFFER_SIZE\n",
    "io.DEFAULT_BUFFER_SIZE = 1\n",
    "\n",
    "gzip_file.close()\n",
    "compressed.close()\n",
    "compressed = open('files/harry.txt.gz', 'rb', buffering = 0)\n",
    "gzip_file = gzip.GzipFile(fileobj=compressed)"
   ]
  },
  {
   "cell_type": "code",
   "execution_count": 106,
   "metadata": {},
   "outputs": [
    {
     "data": {
      "text/plain": [
       "b\"Harry Potter and the Sorcerer's Stone \\r\\n\\r\\nCHAPTER ONE \\r\\n\\r\\nTHE BOY WHO LIVED \\r\\n\\r\\nMr. and Mrs. Dursley, of number four, Privet Drive, were proud to say that they were perfectly normal, thank you very mu\""
      ]
     },
     "execution_count": 106,
     "metadata": {},
     "output_type": "execute_result"
    }
   ],
   "source": [
    "gzip_file.read(200)"
   ]
  },
  {
   "cell_type": "code",
   "execution_count": 107,
   "metadata": {},
   "outputs": [
    {
     "data": {
      "text/plain": [
       "258"
      ]
     },
     "execution_count": 107,
     "metadata": {},
     "output_type": "execute_result"
    }
   ],
   "source": [
    "compressed.tell()"
   ]
  },
  {
   "cell_type": "code",
   "execution_count": 114,
   "metadata": {},
   "outputs": [
    {
     "name": "stdout",
     "output_type": "stream",
     "text": [
      "Uncompressed: 200B --- Compressed: 186B\n",
      "Uncompressed: 300B --- Compressed: 258B\n",
      "Uncompressed: 400B --- Compressed: 328B\n",
      "Uncompressed: 500B --- Compressed: 392B\n",
      "Uncompressed: 600B --- Compressed: 458B\n"
     ]
    }
   ],
   "source": [
    "bytes_uncompressed = 100\n",
    "\n",
    "for _ in range(5):\n",
    "    gzip_file.read(100)\n",
    "    bytes_uncompressed += 100\n",
    "    bytes_compressed = compressed.tell()\n",
    "    print(f'Uncompressed: {bytes_uncompressed}B --- Compressed: {bytes_compressed}B')"
   ]
  },
  {
   "cell_type": "code",
   "execution_count": 115,
   "metadata": {},
   "outputs": [],
   "source": [
    "gzip_file.close()\n",
    "compressed.close()\n",
    "io.DEFAULT_BUFFER_SIZE = old_buffer_size"
   ]
  },
  {
   "cell_type": "code",
   "execution_count": 5,
   "metadata": {},
   "outputs": [],
   "source": [
    "@contextlib.contextmanager\n",
    "def buffer_size(size=1):\n",
    "    old_buffer_size = io.DEFAULT_BUFFER_SIZE\n",
    "    io.DEFAULT_BUFFER_SIZE = size\n",
    "    \n",
    "    try:\n",
    "        yield\n",
    "    finally:\n",
    "        io.DEFAULT_BUFFER_SIZE = old_buffer_size"
   ]
  },
  {
   "cell_type": "code",
   "execution_count": 8,
   "metadata": {},
   "outputs": [
    {
     "name": "stdout",
     "output_type": "stream",
     "text": [
      "Size: 1\n",
      "Size: 8192\n"
     ]
    }
   ],
   "source": [
    "with buffer_size():\n",
    "    print(f'Size: {io.DEFAULT_BUFFER_SIZE}')\n",
    "print(f'Size: {io.DEFAULT_BUFFER_SIZE}')\n"
   ]
  },
  {
   "cell_type": "code",
   "execution_count": 9,
   "metadata": {},
   "outputs": [],
   "source": [
    "def create_curve(filename: str, chunksize = 64):\n",
    "    records = []\n",
    "    read = 0\n",
    "    \n",
    "    with buffer_size(), open(filename, 'rb') as file_:\n",
    "        zipped = gzip.GzipFile(fileobj = file_)\n",
    "        data = zipped.read(chunksize)\n",
    "        \n",
    "        while len(data) > 0:\n",
    "            read += len(data)\n",
    "            records.append((read, file_.tell()))\n",
    "            data = zipped.read(chunksize)\n",
    "            \n",
    "    data_frame = pandas.DataFrame(records, columns=['Uncompressed', filename])\n",
    "    return data_frame.set_index('Uncompressed')"
   ]
  },
  {
   "cell_type": "code",
   "execution_count": 12,
   "metadata": {},
   "outputs": [
    {
     "data": {
      "text/html": [
       "<div>\n",
       "<style scoped>\n",
       "    .dataframe tbody tr th:only-of-type {\n",
       "        vertical-align: middle;\n",
       "    }\n",
       "\n",
       "    .dataframe tbody tr th {\n",
       "        vertical-align: top;\n",
       "    }\n",
       "\n",
       "    .dataframe thead th {\n",
       "        text-align: right;\n",
       "    }\n",
       "</style>\n",
       "<table border=\"1\" class=\"dataframe\">\n",
       "  <thead>\n",
       "    <tr style=\"text-align: right;\">\n",
       "      <th></th>\n",
       "      <th>files/harry.txt.gz</th>\n",
       "    </tr>\n",
       "    <tr>\n",
       "      <th>Uncompressed</th>\n",
       "      <th></th>\n",
       "    </tr>\n",
       "  </thead>\n",
       "  <tbody>\n",
       "    <tr>\n",
       "      <th>64</th>\n",
       "      <td>157</td>\n",
       "    </tr>\n",
       "    <tr>\n",
       "      <th>128</th>\n",
       "      <td>209</td>\n",
       "    </tr>\n",
       "    <tr>\n",
       "      <th>192</th>\n",
       "      <td>252</td>\n",
       "    </tr>\n",
       "    <tr>\n",
       "      <th>256</th>\n",
       "      <td>294</td>\n",
       "    </tr>\n",
       "    <tr>\n",
       "      <th>320</th>\n",
       "      <td>341</td>\n",
       "    </tr>\n",
       "    <tr>\n",
       "      <th>...</th>\n",
       "      <td>...</td>\n",
       "    </tr>\n",
       "    <tr>\n",
       "      <th>448576</th>\n",
       "      <td>163021</td>\n",
       "    </tr>\n",
       "    <tr>\n",
       "      <th>448640</th>\n",
       "      <td>163037</td>\n",
       "    </tr>\n",
       "    <tr>\n",
       "      <th>448704</th>\n",
       "      <td>163066</td>\n",
       "    </tr>\n",
       "    <tr>\n",
       "      <th>448768</th>\n",
       "      <td>163089</td>\n",
       "    </tr>\n",
       "    <tr>\n",
       "      <th>448810</th>\n",
       "      <td>163113</td>\n",
       "    </tr>\n",
       "  </tbody>\n",
       "</table>\n",
       "<p>7013 rows × 1 columns</p>\n",
       "</div>"
      ],
      "text/plain": [
       "              files/harry.txt.gz\n",
       "Uncompressed                    \n",
       "64                           157\n",
       "128                          209\n",
       "192                          252\n",
       "256                          294\n",
       "320                          341\n",
       "...                          ...\n",
       "448576                    163021\n",
       "448640                    163037\n",
       "448704                    163066\n",
       "448768                    163089\n",
       "448810                    163113\n",
       "\n",
       "[7013 rows x 1 columns]"
      ]
     },
     "execution_count": 12,
     "metadata": {},
     "output_type": "execute_result"
    }
   ],
   "source": [
    "compression_curve = create_curve('files/harry.txt.gz')\n",
    "compression_curve"
   ]
  },
  {
   "cell_type": "code",
   "execution_count": 16,
   "metadata": {},
   "outputs": [
    {
     "data": {
      "text/plain": [
       "<AxesSubplot:xlabel='Uncompressed'>"
      ]
     },
     "execution_count": 16,
     "metadata": {},
     "output_type": "execute_result"
    },
    {
     "data": {
      "image/png": "[encoded data removed]",
      "text/plain": [
       "<Figure size 1152x576 with 1 Axes>"
      ]
     },
     "metadata": {},
     "output_type": "display_data"
    }
   ],
   "source": [
    "pyplot.style.use('ggplot')\n",
    "matplotlib.rcParams['figure.figsize'] = [16, 8]\n",
    "\n",
    "compression_curve.plot()"
   ]
  },
  {
   "cell_type": "code",
   "execution_count": 17,
   "metadata": {},
   "outputs": [
    {
     "data": {
      "text/plain": [
       "<AxesSubplot:xlabel='Uncompressed'>"
      ]
     },
     "execution_count": 17,
     "metadata": {},
     "output_type": "execute_result"
    },
    {
     "data": {
      "image/png": "[encoded data removed]",
      "text/plain": [
       "<Figure size 1152x576 with 1 Axes>"
      ]
     },
     "metadata": {},
     "output_type": "display_data"
    }
   ],
   "source": [
    "compression_curve['uncompressed'] = compression_curve.index\n",
    "compression_curve.plot()"
   ]
  },
  {
   "cell_type": "code",
   "execution_count": null,
   "metadata": {},
   "outputs": [],
   "source": []
  }
 ],
 "metadata": {
  "kernelspec": {
   "display_name": "Python 3",
   "language": "python",
   "name": "python3"
  },
  "language_info": {
   "codemirror_mode": {
    "name": "ipython",
    "version": 3
   },
   "file_extension": ".py",
   "mimetype": "text/x-python",
   "name": "python",
   "nbconvert_exporter": "python",
   "pygments_lexer": "ipython3",
   "version": "3.8.5"
  }
 },
 "nbformat": 4,
 "nbformat_minor": 4
}
